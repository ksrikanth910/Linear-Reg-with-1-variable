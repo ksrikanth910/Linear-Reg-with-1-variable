{
 "cells": [
  {
   "cell_type": "code",
   "execution_count": 1,
   "metadata": {},
   "outputs": [],
   "source": [
    "import pandas as pan\n",
    "import numpy as np"
   ]
  },
  {
   "cell_type": "code",
   "execution_count": 2,
   "metadata": {},
   "outputs": [],
   "source": [
    "myData = pan.read_csv(\"ex1data1.txt\")\n",
    "X = myData.iloc[:,:1].values\n",
    "y = myData.iloc[:,1].values"
   ]
  },
  {
   "cell_type": "code",
   "execution_count": 3,
   "metadata": {},
   "outputs": [
    {
     "data": {
      "text/plain": [
       "<Figure size 640x480 with 1 Axes>"
      ]
     },
     "metadata": {},
     "output_type": "display_data"
    }
   ],
   "source": [
    "import matplotlib.pyplot as plt\n",
    "plt.scatter(X,y,marker='x')\n",
    "plt.show()"
   ]
  },
  {
   "cell_type": "code",
   "execution_count": 4,
   "metadata": {
    "scrolled": true
   },
   "outputs": [],
   "source": [
    "theta = np.zeros((2,1))\n",
    "m = X.shape[0]\n",
    "y = y.reshape(-1,1)"
   ]
  },
  {
   "cell_type": "markdown",
   "metadata": {},
   "source": [
    "### Adding Intercept Term"
   ]
  },
  {
   "cell_type": "code",
   "execution_count": 5,
   "metadata": {
    "scrolled": true
   },
   "outputs": [],
   "source": [
    "X = np.append(np.ones((m,1)),X,axis=1)"
   ]
  },
  {
   "cell_type": "markdown",
   "metadata": {},
   "source": [
    "### Hypothesis & Cost Function"
   ]
  },
  {
   "cell_type": "code",
   "execution_count": 6,
   "metadata": {},
   "outputs": [
    {
     "name": "stdout",
     "output_type": "stream",
     "text": [
      "Cost when Theta=[0,0] is : 32.07\n"
     ]
    }
   ],
   "source": [
    "J = np.sum((np.matmul(X,theta) - y)**2)/(2*m)\n",
    "print(\"Cost when Theta=[0,0] is : {:.2f}\".format(J))\n",
    "\n",
    "def cost_fun(theta):\n",
    "    J = np.sum((np.matmul(X,theta) - y)**2)/(2*m)\n",
    "    return J"
   ]
  },
  {
   "cell_type": "markdown",
   "metadata": {},
   "source": [
    "### Gradient Discent"
   ]
  },
  {
   "cell_type": "code",
   "execution_count": 7,
   "metadata": {},
   "outputs": [],
   "source": [
    "num_itr = 1500\n",
    "alpha = 0.01#Learning Rate\n",
    "J_hist = np.zeros((num_itr,1))\n",
    "\n",
    "for i in range(num_itr):\n",
    "    for j in range(theta.shape[0]):\n",
    "        cost = np.dot(np.transpose(X[:,j]),(np.matmul(X,theta) - y))/m\n",
    "        theta[j] = theta[j] - (alpha*cost)\n",
    "    J_hist[i] = cost_fun(theta)"
   ]
  },
  {
   "cell_type": "code",
   "execution_count": 8,
   "metadata": {},
   "outputs": [
    {
     "name": "stdout",
     "output_type": "stream",
     "text": [
      "Theta values after Gradient Discent :\n",
      "[[-3.63606348]\n",
      " [ 1.16698916]]\n"
     ]
    }
   ],
   "source": [
    "print(\"Theta values after Gradient Discent :\\n{}\".format(theta))"
   ]
  },
  {
   "cell_type": "markdown",
   "metadata": {},
   "source": [
    "### Predicting & Plotting"
   ]
  },
  {
   "cell_type": "code",
   "execution_count": 9,
   "metadata": {},
   "outputs": [
    {
     "data": {
      "image/png": "[encoded data removed]",
      "text/plain": [
       "<Figure size 432x288 with 1 Axes>"
      ]
     },
     "metadata": {
      "needs_background": "light"
     },
     "output_type": "display_data"
    }
   ],
   "source": [
    "pred = np.dot(X,theta)\n",
    "plt.scatter(X[:,1],y,color='r',marker='x',s=25)\n",
    "plt.plot(X[:,1],pred,color='b')\n",
    "plt.show()"
   ]
  },
  {
   "cell_type": "markdown",
   "metadata": {},
   "source": [
    "### Ploting Gradient Discent"
   ]
  },
  {
   "cell_type": "code",
   "execution_count": 29,
   "metadata": {},
   "outputs": [
    {
     "data": {
      "image/png": "[encoded data removed]",
      "text/plain": [
       "<Figure size 432x288 with 1 Axes>"
      ]
     },
     "metadata": {
      "needs_background": "light"
     },
     "output_type": "display_data"
    }
   ],
   "source": [
    "plt.plot(np.arange(1,num_itr+1).reshape(-1,1),J_hist)\n",
    "plt.title(\"cost over no.of itrs\")\n",
    "plt.xlabel(\"No.of Iterations\")\n",
    "plt.ylabel(\"cost(0)\")\n",
    "plt.show()"
   ]
  },
  {
   "cell_type": "markdown",
   "metadata": {},
   "source": [
    "### Predicting new data"
   ]
  },
  {
   "cell_type": "code",
   "execution_count": 28,
   "metadata": {},
   "outputs": [
    {
     "name": "stdout",
     "output_type": "stream",
     "text": [
      "Profit Predicted for population 35k is :4483.99\n",
      "Profit Predicted for population 70k is :45328.61\n"
     ]
    }
   ],
   "source": [
    "pred_new = np.dot(np.array([[1,3.5],[1,7]]),theta)*10000\n",
    "print(\"Profit Predicted for population 35k is :{:.2f}\".format(*pred_new[0]))\n",
    "print(\"Profit Predicted for population 70k is :{:.2f}\".format(*pred_new[1]))"
   ]
  },
  {
   "cell_type": "code",
   "execution_count": null,
   "metadata": {},
   "outputs": [],
   "source": []
  }
 ],
 "metadata": {
  "kernelspec": {
   "display_name": "Python 3",
   "language": "python",
   "name": "python3"
  },
  "language_info": {
   "codemirror_mode": {
    "name": "ipython",
    "version": 3
   },
   "file_extension": ".py",
   "mimetype": "text/x-python",
   "name": "python",
   "nbconvert_exporter": "python",
   "pygments_lexer": "ipython3",
   "version": "3.7.3"
  }
 },
 "nbformat": 4,
 "nbformat_minor": 2
}
